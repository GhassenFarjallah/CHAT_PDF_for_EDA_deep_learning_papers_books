{
 "cells": [
  {
   "cell_type": "markdown",
   "metadata": {},
   "source": [
    "## Chat myPDF : RAG with LangChain, Ollama, and FAISS Vector Store"
   ]
  },
  {
   "cell_type": "code",
   "execution_count": null,
   "metadata": {},
   "outputs": [],
   "source": [
    "# pip install -U langchain-community faiss-cpu langchain-huggingface pymupdf tiktoken langchain-ollama python-dotenv"
   ]
  },
  {
   "cell_type": "code",
   "execution_count": 2,
   "metadata": {},
   "outputs": [
    {
     "data": {
      "text/plain": [
       "True"
      ]
     },
     "execution_count": 2,
     "metadata": {},
     "output_type": "execute_result"
    }
   ],
   "source": [
    "import os\n",
    "import warnings\n",
    "from dotenv import load_dotenv\n",
    "\n",
    "os.environ['KMP_DUPLICATE_LIB_OK'] = 'True'\n",
    "warnings.filterwarnings(\"ignore\")\n",
    "\n",
    "load_dotenv()"
   ]
  },
  {
   "cell_type": "markdown",
   "metadata": {},
   "source": [
    "### Document Loader"
   ]
  },
  {
   "cell_type": "code",
   "execution_count": 3,
   "metadata": {},
   "outputs": [],
   "source": [
    "from langchain_community.document_loaders import PyMuPDFLoader\n",
    "\n",
    "loader = PyMuPDFLoader(\"./data\\AComprehensiveReview_deep_learning__Architectures,recentAdvances,andApplications.pdf\")\n",
    "\n",
    "docs = loader.load()"
   ]
  },
  {
   "cell_type": "code",
   "execution_count": 5,
   "metadata": {},
   "outputs": [
    {
     "name": "stdout",
     "output_type": "stream",
     "text": [
      "Citation: Mienye, I.D.; Swart, T.G.\n",
      "A Comprehensive Review of Deep\n",
      "Learning: Architectures, Recent\n",
      "Advances, and Applications.\n",
      "Information 2024, 15, 755.\n",
      "https://doi.org/10.3390/\n",
      "info15120755\n",
      "Academic Editor: Nicolas Guelfi\n",
      "Received: 21 September 2024\n",
      "Revised: 20 November 2024\n",
      "Accepted: 21 November 2024\n",
      "Published: 27 November 2024\n",
      "Copyright: © 2024 by the authors.\n",
      "Licensee MDPI, Basel, Switzerland.\n",
      "This article is an open access article\n",
      "distributed\n",
      "under\n",
      "the\n",
      "terms\n",
      "and\n",
      "conditions of the Creative Commons\n",
      "Attribution (CC BY) license (https://\n",
      "creativecommons.org/licenses/by/\n",
      "4.0/).\n",
      "  \n",
      "information\n",
      "Article\n",
      "A Comprehensive Review of Deep Learning: Architectures,\n",
      "Recent Advances, and Applications\n",
      "Ibomoiye Domor Mienye *,†\n",
      "and Theo G. Swart †\n",
      "Institute for Intelligent Systems, University of Johannesburg, Johannesburg 2006, South Africa; tgswart@uj.ac.za\n",
      "* Correspondence: ibomoiyem@uj.ac.za\n",
      "† These authors contributed equally to this work.\n",
      "Abstract: Deep learning (DL) has become a core component of modern artificial intelligence (AI),\n",
      "driving significant advancements across diverse fields by facilitating the analysis of complex systems,\n",
      "from protein folding in biology to molecular discovery in chemistry and particle interactions in\n",
      "physics. However, the field of deep learning is constantly evolving, with recent innovations in both\n",
      "architectures and applications. Therefore, this paper provides a comprehensive review of recent DL\n",
      "advances, covering the evolution and applications of foundational models like convolutional neural\n",
      "networks (CNNs) and Recurrent Neural Networks (RNNs), as well as recent architectures such as\n",
      "transformers, generative adversarial networks (GANs), capsule networks, and graph neural networks\n",
      "(GNNs). Additionally, the paper discusses novel training techniques, including self-supervised\n",
      "learning, federated learning, and deep reinforcement learning, which further enhance the capabilities\n",
      "of deep learning models. By synthesizing recent developments and identifying current challenges,\n",
      "this paper provides insights into the state of the art and future directions of DL research, offering\n",
      "valuable guidance for both researchers and industry experts.\n",
      "Keywords: deep learning; GAN; GRU; LLM; LSTM; machine learning; NLP; transformers\n",
      "1. Introduction\n",
      "Deep learning (DL) has significantly transformed the field of artificial intelligence\n",
      "(AI), achieving excellent performance in different applications and demonstrating robust\n",
      "capabilities in handling vast amounts of data and complex computations [1–3]. This field,\n",
      "a subset of machine learning (ML), utilizes architectures comprising numerous layers of\n",
      "nodes or neurons, where each layer is designed to model increasingly complex patterns\n",
      "in data [4]. Initially centered around simple models like perceptrons, DL has evolved to\n",
      "include sophisticated neural networks capable of performing a variety of tasks, such as\n",
      "image recognition and natural language processing (NLP).\n",
      "The evolution of these DL architectures has led to significant enhancements in model\n",
      "performance and expanded the application areas of deep learning [5–7]. In recognition\n",
      "of DL’s interdisciplinary impact, recent milestones highlight its significant contributions\n",
      "to scientific fields. For instance, the 2023 Nobel Prize in Chemistry was awarded for\n",
      "innovations in DL applications within chemistry, particularly in molecular design and\n",
      "reaction predictions, which indicates DL’s role in accelerating research and discovery in\n",
      "complex scientific domains.\n",
      "Meanwhile, the field of deep learning is continually advancing, with novel architec-\n",
      "tures and improved learning algorithms emerging at a rapid pace. For instance, the intro-\n",
      "duction of models like transformers by Vaswani et al. [8] has reshaped the understanding\n",
      "of sequence processing, a crucial breakthrough in natural language processing. Similarly,\n",
      "advancements in areas such as reinforcement learning and generative models demon-\n",
      "strate the growing versatility and depth of neural networks [9,10]. Emerging trends in\n",
      "DL reflect a shift towards personalized and privacy-preserving applications. For instance,\n",
      "Information 2024, 15, 755. https://doi.org/10.3390/info15120755\n",
      "https://www.mdpi.com/journal/information\n",
      "\n"
     ]
    }
   ],
   "source": [
    "doc = docs[0]\n",
    "print(doc.page_content)"
   ]
  },
  {
   "cell_type": "code",
   "execution_count": 6,
   "metadata": {},
   "outputs": [],
   "source": [
    "import os\n",
    "\n",
    "pdfs = []\n",
    "for root, dirs, files in os.walk('data'):\n",
    "    # print(root, dirs, files)\n",
    "    for file in files:\n",
    "        if file.endswith('.pdf'):\n",
    "            pdfs.append(os.path.join(root, file))"
   ]
  },
  {
   "cell_type": "code",
   "execution_count": 7,
   "metadata": {},
   "outputs": [],
   "source": [
    "docs = []\n",
    "for pdf in pdfs:\n",
    "    loader = PyMuPDFLoader(pdf)\n",
    "    pages = loader.load()\n",
    "\n",
    "    docs.extend(pages)"
   ]
  },
  {
   "cell_type": "code",
   "execution_count": 8,
   "metadata": {},
   "outputs": [
    {
     "data": {
      "text/plain": [
       "321"
      ]
     },
     "execution_count": 8,
     "metadata": {},
     "output_type": "execute_result"
    }
   ],
   "source": [
    "len(docs)"
   ]
  },
  {
   "cell_type": "markdown",
   "metadata": {},
   "source": [
    "### Document Chunking"
   ]
  },
  {
   "cell_type": "code",
   "execution_count": 9,
   "metadata": {},
   "outputs": [],
   "source": [
    "from langchain_text_splitters import RecursiveCharacterTextSplitter\n",
    "\n",
    "\n",
    "text_splitter = RecursiveCharacterTextSplitter(chunk_size=1000, chunk_overlap=150)\n",
    "\n",
    "chunks = text_splitter.split_documents(docs)"
   ]
  },
  {
   "cell_type": "code",
   "execution_count": 10,
   "metadata": {},
   "outputs": [
    {
     "data": {
      "text/plain": [
       "(321, 776)"
      ]
     },
     "execution_count": 10,
     "metadata": {},
     "output_type": "execute_result"
    }
   ],
   "source": [
    "len(docs), len(chunks)"
   ]
  },
  {
   "cell_type": "code",
   "execution_count": 11,
   "metadata": {},
   "outputs": [
    {
     "data": {
      "text/plain": [
       "(4234, 944)"
      ]
     },
     "execution_count": 11,
     "metadata": {},
     "output_type": "execute_result"
    }
   ],
   "source": [
    "len(docs[0].page_content), len(chunks[0].page_content)"
   ]
  },
  {
   "cell_type": "code",
   "execution_count": 12,
   "metadata": {},
   "outputs": [
    {
     "data": {
      "text/plain": [
       "(876, 257)"
      ]
     },
     "execution_count": 12,
     "metadata": {},
     "output_type": "execute_result"
    }
   ],
   "source": [
    "import tiktoken\n",
    "\n",
    "encoding = tiktoken.encoding_for_model(\"gpt-4o-mini\")\n",
    "\n",
    "len(encoding.encode(docs[0].page_content)), len(encoding.encode(chunks[0].page_content))"
   ]
  },
  {
   "cell_type": "markdown",
   "metadata": {},
   "source": [
    "### Document Vector Embedding"
   ]
  },
  {
   "cell_type": "code",
   "execution_count": 13,
   "metadata": {},
   "outputs": [],
   "source": [
    "from langchain_ollama import OllamaEmbeddings\n",
    "\n",
    "import faiss\n",
    "from langchain_community.vectorstores import FAISS\n",
    "from langchain_community.docstore.in_memory import InMemoryDocstore"
   ]
  },
  {
   "cell_type": "code",
   "execution_count": 15,
   "metadata": {},
   "outputs": [],
   "source": [
    "embeddings = OllamaEmbeddings(model='nomic-embed-text', base_url=\"http://localhost:11434\")\n",
    "\n",
    "single_vector = embeddings.embed_query(\"this is some text data\")\n"
   ]
  },
  {
   "cell_type": "code",
   "execution_count": 16,
   "metadata": {},
   "outputs": [
    {
     "data": {
      "text/plain": [
       "768"
      ]
     },
     "execution_count": 16,
     "metadata": {},
     "output_type": "execute_result"
    }
   ],
   "source": [
    "len(single_vector)"
   ]
  },
  {
   "cell_type": "code",
   "execution_count": 17,
   "metadata": {},
   "outputs": [
    {
     "data": {
      "text/plain": [
       "(0, 768)"
      ]
     },
     "execution_count": 17,
     "metadata": {},
     "output_type": "execute_result"
    }
   ],
   "source": [
    "index = faiss.IndexFlatL2(len(single_vector))\n",
    "index.ntotal, index.d"
   ]
  },
  {
   "cell_type": "code",
   "execution_count": 18,
   "metadata": {},
   "outputs": [],
   "source": [
    "vector_store = FAISS(\n",
    "    embedding_function=embeddings,\n",
    "    index=index,\n",
    "    docstore=InMemoryDocstore(),\n",
    "    index_to_docstore_id={}\n",
    ")"
   ]
  },
  {
   "cell_type": "code",
   "execution_count": 19,
   "metadata": {},
   "outputs": [
    {
     "data": {
      "text/plain": [
       "776"
      ]
     },
     "execution_count": 19,
     "metadata": {},
     "output_type": "execute_result"
    }
   ],
   "source": [
    "len(chunks)"
   ]
  },
  {
   "cell_type": "code",
   "execution_count": 48,
   "metadata": {},
   "outputs": [],
   "source": [
    "# help(vector_store)"
   ]
  },
  {
   "cell_type": "code",
   "execution_count": 20,
   "metadata": {},
   "outputs": [],
   "source": [
    "ids = vector_store.add_documents(documents=chunks)"
   ]
  },
  {
   "cell_type": "code",
   "execution_count": 21,
   "metadata": {},
   "outputs": [
    {
     "data": {
      "text/plain": [
       "776"
      ]
     },
     "execution_count": 21,
     "metadata": {},
     "output_type": "execute_result"
    }
   ],
   "source": [
    "vector_store.index_to_docstore_id\n",
    "len(ids)"
   ]
  },
  {
   "cell_type": "code",
   "execution_count": 54,
   "metadata": {},
   "outputs": [],
   "source": [
    "# # store vector database\n",
    "# db_name = \"health_supplements\"\n",
    "# vector_store.save_local(db_name)\n",
    "\n",
    "# # load vector database\n",
    "# new_vector_store = FAISS.load_local(db_name, embeddings=embeddings, allow_dangerous_deserialization=True)\n",
    "# len(new_vector_store.index_to_docstore_id)"
   ]
  },
  {
   "cell_type": "code",
   "execution_count": 55,
   "metadata": {},
   "outputs": [],
   "source": []
  },
  {
   "cell_type": "code",
   "execution_count": 58,
   "metadata": {},
   "outputs": [
    {
     "data": {
      "text/plain": [
       "321"
      ]
     },
     "execution_count": 58,
     "metadata": {},
     "output_type": "execute_result"
    }
   ],
   "source": []
  },
  {
   "cell_type": "markdown",
   "metadata": {},
   "source": [
    "### Retreival"
   ]
  },
  {
   "attachments": {
    "image.png": {
     "image/png": "[encoded data removed]"
    }
   },
   "cell_type": "markdown",
   "metadata": {},
   "source": [
    "![image.png](attachment:image.png)"
   ]
  },
  {
   "cell_type": "code",
   "execution_count": 25,
   "metadata": {},
   "outputs": [
    {
     "name": "stdout",
     "output_type": "stream",
     "text": [
      "from a wide range of sources without exposing individual data sets, federated learning\n",
      "facilitates more personalized and sensitive applications. This technique not only enhances\n",
      "privacy and data security but also harnesses the power of distributed data sources to create\n",
      "models that are both diverse in their learning and comprehensive in their application.\n",
      "5.4. Deep Reinforcement Learning\n",
      "Deep reinforcement learning (DRL) represents an advanced training technique that\n",
      "combines reinforcement learning principles with deep neural networks, allowing models to\n",
      "learn optimal behaviors through interaction with an environment [95]. Unlike traditional\n",
      "supervised or unsupervised learning methods, DRL relies on a feedback mechanism where\n",
      "the model, or agent, explores different actions to maximize a reward signal over time.\n",
      "The core of DRL’s training methodology is the iterative learning process guided by the\n",
      "Bellman equation, which helps the agent estimate the optimal policy by updating its\n",
      "\n",
      "\n",
      "\n",
      "93.\n",
      "Zhang, C.; Xie, Y.; Bai, H.; Yu, B.; Li, W.; Gao, Y. A survey on federated learning. Knowl.-Based Syst. 2021, 216, 106775. [CrossRef]\n",
      "94.\n",
      "Abaoud, M.; Almuqrin, M.A.; Khan, M.F. Advancing federated learning through novel mechanism for privacy preservation in\n",
      "healthcare applications. IEEE Access 2023, 11, 83562–83579. [CrossRef]\n",
      "95.\n",
      "Arulkumaran, K.; Deisenroth, M.P.; Brundage, M.; Bharath, A.A. Deep reinforcement learning: A brief survey. IEEE Signal\n",
      "Process. Mag. 2017, 34, 26–38. [CrossRef]\n",
      "96.\n",
      "Sutton, R.S.; McAllester, D.; Singh, S.; Mansour, Y. Policy gradient methods for reinforcement learning with function approxima-\n",
      "tion. Adv. Neural Inf. Process. Syst. 1999, 12, 1057–1063.\n",
      "97.\n",
      "Mnih, V. Asynchronous Methods for Deep Reinforcement Learning. arXiv 2016, arXiv:1602.01783.\n",
      "98.\n",
      "Lowe, R.; Wu, Y.I.; Tamar, A.; Harb, J.; Pieter Abbeel, O.; Mordatch, I. Multi-agent actor-critic for mixed cooperative-competitive\n",
      "environments. Adv. Neural Inf. Process. Syst. 2017, 30, 6382–6393.\n",
      "99.\n",
      "\n",
      "\n",
      "\n",
      "Information 2024, 15, 755\n",
      "19 of 45\n",
      "develop a new model from scratch. As a result, organizations can deploy state-of-the-art\n",
      "models tailored to their specific needs more quickly and efficiently.\n",
      "5.3. Federated Learning\n",
      "Federated learning is an innovative technique that enables the training of models\n",
      "across multiple decentralized edge devices or servers, each holding local data samples,\n",
      "without requiring the exchange of these data [91]. This approach is highly advantageous in\n",
      "environments where data privacy is a key concern, as it effectively minimizes the risk of\n",
      "data leakage by keeping all personal or sensitive information on the local device. In the\n",
      "federated learning framework, the training process typically unfolds over several rounds\n",
      "of computation. In each round, a central server disseminates the current model parameters\n",
      "θ to the participating devices. Upon receiving these parameters, each device uses its\n",
      "\n",
      "\n",
      "\n",
      "Information 2024, 15, 755\n",
      "26 of 45\n",
      "7.1.4. Federated Learning and Privacy-Preserving Healthcare Systems\n",
      "Federated learning (FL) is a vital technique in healthcare, addressing privacy con-\n",
      "cerns while enabling collaborative advancements. FL allows healthcare institutions to\n",
      "train models collaboratively without sharing sensitive patient data, preserving privacy,\n",
      "and complying with regulations such as GDPR and HIPAA. For instance, Gaber et al. [152]\n",
      "demonstrated the use of FL to improve predictive models for diagnosing cardiovascu-\n",
      "lar diseases by aggregating insights from multiple hospitals. This approach significantly\n",
      "enhanced model accuracy without compromising data privacy.\n",
      "In cancer research, FL has been utilized to develop robust models for early detection.\n",
      "A study by Tan et al. [153] trained a federated deep learning model for breast cancer predic-\n",
      "tion using mammography data from various institutions, achieving improved diagnostic\n",
      "\n",
      "\n",
      "\n"
     ]
    }
   ],
   "source": [
    "question = \"what is the difference between federated learning and Reinforcement Learning?\"\n",
    "docs = vector_store.search(query=question, search_type='similarity')\n",
    "\n",
    "for doc in docs:\n",
    "    print(doc.page_content)\n",
    "    print(\"\\n\\n\")"
   ]
  },
  {
   "cell_type": "code",
   "execution_count": 26,
   "metadata": {},
   "outputs": [],
   "source": [
    "retriever = vector_store.as_retriever(search_type=\"mmr\", search_kwargs = {'k': 3, \n",
    "                                                                          'fetch_k': 100,\n",
    "                                                                          'lambda_mult': 1})"
   ]
  },
  {
   "cell_type": "code",
   "execution_count": 27,
   "metadata": {},
   "outputs": [],
   "source": [
    "docs = retriever.invoke(question)\n",
    "\n",
    "# for doc in docs:\n",
    "#     print(doc.page_content)\n",
    "#     print(\"\\n\\n\")\n"
   ]
  },
  {
   "cell_type": "code",
   "execution_count": 66,
   "metadata": {},
   "outputs": [],
   "source": [
    "\n",
    "\n",
    "question = \"what is used to reduce weight?\"\n",
    "# question = \"what are side effects of supplements?\"\n",
    "# question = \"what are the benefits of supplements?\"\n",
    "# question = \"what are the benefits of BCAA supplements?\"\n",
    "docs = retriever.invoke(question)\n"
   ]
  },
  {
   "cell_type": "markdown",
   "metadata": {},
   "source": []
  },
  {
   "cell_type": "markdown",
   "metadata": {},
   "source": [
    "### RAG with LLAMA 3.2 on OLLAMA"
   ]
  },
  {
   "cell_type": "code",
   "execution_count": 28,
   "metadata": {},
   "outputs": [],
   "source": [
    "from langchain import hub\n",
    "from langchain_core.output_parsers import StrOutputParser\n",
    "from langchain_core.runnables import RunnablePassthrough\n",
    "from langchain_core.prompts import ChatPromptTemplate\n",
    "\n",
    "from langchain_ollama import ChatOllama"
   ]
  },
  {
   "cell_type": "code",
   "execution_count": 29,
   "metadata": {},
   "outputs": [
    {
     "data": {
      "text/plain": [
       "AIMessage(content='How can I help you today?', additional_kwargs={}, response_metadata={'model': 'llama3.2', 'created_at': '2025-01-05T15:08:21.3566906Z', 'done': True, 'done_reason': 'stop', 'total_duration': 5007742100, 'load_duration': 4562611100, 'prompt_eval_count': 26, 'prompt_eval_duration': 354000000, 'eval_count': 8, 'eval_duration': 89000000, 'message': Message(role='assistant', content='', images=None, tool_calls=None)}, id='run-429d2b80-19fa-4dcd-b781-49c9a78ee927-0', usage_metadata={'input_tokens': 26, 'output_tokens': 8, 'total_tokens': 34})"
      ]
     },
     "execution_count": 29,
     "metadata": {},
     "output_type": "execute_result"
    }
   ],
   "source": [
    "model = ChatOllama(model=\"llama3.2\", base_url=\"http://localhost:11434\")\n",
    "\n",
    "model.invoke(\"hi\")"
   ]
  },
  {
   "cell_type": "code",
   "execution_count": 30,
   "metadata": {},
   "outputs": [],
   "source": [
    "prompt = hub.pull(\"rlm/rag-prompt\")"
   ]
  },
  {
   "cell_type": "code",
   "execution_count": 31,
   "metadata": {},
   "outputs": [],
   "source": [
    "prompt = \"\"\"\n",
    "    You are an assistant for question-answering tasks. Use the following pieces of retrieved context to answer the question.\n",
    "    If you don't know the answer, just say that you don't know.\n",
    "    Answer in bullet points. Make sure your answer is relevant to the question and it is answered from the context only.\n",
    "    Question: {question} \n",
    "    Context: {context} \n",
    "    Answer:\n",
    "\"\"\"\n",
    "\n",
    "prompt = ChatPromptTemplate.from_template(prompt)"
   ]
  },
  {
   "cell_type": "code",
   "execution_count": 32,
   "metadata": {},
   "outputs": [],
   "source": [
    "def format_docs(docs):\n",
    "    return \"\\n\\n\".join([doc.page_content for doc in docs])\n",
    "\n",
    "# print(format_docs(docs))"
   ]
  },
  {
   "cell_type": "code",
   "execution_count": 33,
   "metadata": {},
   "outputs": [],
   "source": [
    "rag_chain = (\n",
    "    {\"context\": retriever|format_docs, \"question\": RunnablePassthrough()}\n",
    "    | prompt\n",
    "    | model\n",
    "    | StrOutputParser()\n",
    ")"
   ]
  },
  {
   "cell_type": "code",
   "execution_count": 34,
   "metadata": {},
   "outputs": [
    {
     "name": "stdout",
     "output_type": "stream",
     "text": [
      "Here are the key differences between Federated Learning and Reinforcement Learning:\n",
      "\n",
      "• **Purpose**: Federated Learning aims to enhance privacy and data security by minimizing data leakage in environments where sensitive information is present. In contrast, Reinforcement Learning focuses on training models to optimize behaviors through interaction with an environment.\n",
      "\n",
      "• **Data sharing**: Federated Learning allows for model training across multiple devices or servers without exchanging individual data sets, whereas Reinforcement Learning relies on a feedback mechanism that explores different actions to maximize a reward signal.\n",
      "\n",
      "• **Training methodology**: Federated Learning involves iterative rounds of computation where a central server disseminates current model parameters to participating devices. In contrast, Reinforcement Learning uses an iterative learning process guided by the Bellman equation to estimate optimal policies.\n",
      "\n",
      "• **Model development**: Federated Learning enables organizations to deploy state-of-the-art models tailored to their specific needs more quickly and efficiently, as it facilitates the development of new models from scratch. Reinforcement Learning, on the other hand, requires developing a model from scratch.\n",
      "\n",
      "I don't know any differences in terms of \"personalized and sensitive applications\" since this information isn't provided in the given context.\n"
     ]
    }
   ],
   "source": [
    "# question = \"what is used to gain muscle mass?\"\n",
    "# question = \"what is used to reduce weight?\"\n",
    "# question = \"what are side effects of supplements?\"\n",
    "# question = \"what are the benefits of supplements?\"\n",
    "# question = \"what are the benefits of BCAA supplements?\"\n",
    "\n",
    "question = \"what is the difference between federated learning and Reinforcement Learning?\"\n",
    "\n",
    "output = rag_chain.invoke(question)\n",
    "print(output)\n"
   ]
  },
  {
   "cell_type": "code",
   "execution_count": 35,
   "metadata": {},
   "outputs": [
    {
     "name": "stdout",
     "output_type": "stream",
     "text": [
      "Here are the differences between hierarchical clustering and k-means clustering in bullet points:\n",
      "\n",
      "• **Definition of Close**: Hierarchical clustering doesn't specify a fixed distance metric to determine when things are close together, whereas K-means clustering uses a predefined distance metric (e.g. Euclidean).\n",
      "• **Grouping**: Hierarchical clustering organizes data into a hierarchy by merging or splitting groups, while K-means clustering groups data by finding centroids of fixed clusters.\n",
      "• **Visualization**: Hierarchical clustering can be visualized as a tree-like structure, while K-means clustering doesn't have a built-in visualization method (although it can be represented graphically).\n",
      "• **Interpretation**: Both methods provide interpretation challenges, but hierarchical clustering requires more subjective decision-making when choosing the \"cut\" point to determine the number of clusters.\n",
      "• **Purpose**: Hierarchical clustering is often used for exploratory data analysis and identifying major patterns, while K-means clustering is commonly used for unsupervised classification and grouping similar data points.\n"
     ]
    }
   ],
   "source": [
    "question = \"what is the difference between hierarchical clustering and k-means clustering?\"\n",
    "\n",
    "output = rag_chain.invoke(question)\n",
    "print(output)"
   ]
  },
  {
   "cell_type": "code",
   "execution_count": 36,
   "metadata": {},
   "outputs": [
    {
     "name": "stdout",
     "output_type": "stream",
     "text": [
      "Here are the different loss functions mentioned in the context:\n",
      "\n",
      "• Mean Squared Error (MSE): used primarily in regression tasks, calculates the average squared difference between actual and predicted values.\n",
      "• Cross-entropy loss: widely used in classification problems, heavily penalizes confident but incorrect predictions.\n"
     ]
    }
   ],
   "source": [
    "question = \"what are the different loss functions used in deep learning models?\"\n",
    "\n",
    "output = rag_chain.invoke(question)\n",
    "print(output)"
   ]
  },
  {
   "cell_type": "code",
   "execution_count": null,
   "metadata": {},
   "outputs": [],
   "source": [
    "question = \"what are the different loss functions used in deep learning models?\"\n",
    "\n",
    "output = rag_chain.invoke(question)\n",
    "print(output)"
   ]
  },
  {
   "cell_type": "code",
   "execution_count": null,
   "metadata": {},
   "outputs": [],
   "source": []
  }
 ],
 "metadata": {
  "kernelspec": {
   "display_name": "ChatPDF",
   "language": "python",
   "name": "python3"
  },
  "language_info": {
   "codemirror_mode": {
    "name": "ipython",
    "version": 3
   },
   "file_extension": ".py",
   "mimetype": "text/x-python",
   "name": "python",
   "nbconvert_exporter": "python",
   "pygments_lexer": "ipython3",
   "version": "3.9.5"
  }
 },
 "nbformat": 4,
 "nbformat_minor": 2
}
